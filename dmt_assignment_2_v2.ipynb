{
    "cells": [
     {
      "cell_type": "code",
      "execution_count": null,
      "id": "d458d01d",
      "metadata": {},
      "outputs": [],
      "source": [
       "# DONT RUNT THIS CELL\n",
       "# moved to the beginning to not lost it in case we need it later\n",
       "\n",
       "\n",
       "#drop columns i dont care or have too many empty values:\n",
       "aux_training = aux_training.drop('date_time', axis=1)\n",
       "\n",
       "aux_training = aux_training.drop('comp1_rate', axis=1)\n",
       "aux_training = aux_training.drop('comp1_inv', axis=1)\n",
       "aux_training = aux_training.drop('comp1_rate_percent_diff', axis=1)\n",
       "\n",
       "aux_training = aux_training.drop('comp2_rate', axis=1)\n",
       "aux_training = aux_training.drop('comp2_inv', axis=1)\n",
       "aux_training = aux_training.drop('comp2_rate_percent_diff', axis=1)\n",
       "\n",
       "aux_training = aux_training.drop('comp3_rate', axis=1)\n",
       "aux_training = aux_training.drop('comp3_inv', axis=1)\n",
       "aux_training = aux_training.drop('comp3_rate_percent_diff', axis=1)\n",
       "\n",
       "aux_training = aux_training.drop('comp4_rate', axis=1)\n",
       "aux_training = aux_training.drop('comp4_inv', axis=1)\n",
       "aux_training = aux_training.drop('comp4_rate_percent_diff', axis=1)\n",
       "\n",
       "aux_training = aux_training.drop('comp5_rate', axis=1)\n",
       "aux_training = aux_training.drop('comp5_inv', axis=1)\n",
       "aux_training = aux_training.drop('comp5_rate_percent_diff', axis=1)\n",
       "\n",
       "aux_training = aux_training.drop('comp6_rate', axis=1)\n",
       "aux_training = aux_training.drop('comp6_inv', axis=1)\n",
       "aux_training = aux_training.drop('comp6_rate_percent_diff', axis=1)\n",
       "\n",
       "aux_training = aux_training.drop('comp7_rate', axis=1)\n",
       "aux_training = aux_training.drop('comp7_inv', axis=1)\n",
       "aux_training = aux_training.drop('comp7_rate_percent_diff', axis=1)\n",
       "\n",
       "aux_training = aux_training.drop('comp8_rate', axis=1)\n",
       "aux_training = aux_training.drop('comp8_inv', axis=1)\n",
       "aux_training = aux_training.drop('comp8_rate_percent_diff', axis=1)\n",
       "\n",
       "aux_training = aux_training.drop('visitor_hist_starrating', axis=1)\n",
       "aux_training = aux_training.drop('visitor_hist_adr_usd', axis=1)\n",
       "\n",
       "aux_training = aux_training.drop('srch_query_affinity_score', axis=1)\n",
       "\n",
       "aux_training = aux_training.drop('gross_bookings_usd', axis=1)\n",
       "\n",
       "aux_training = aux_training.drop('prop_review_score', axis=1)\n",
       "aux_training = aux_training.drop('prop_location_score2', axis=1)\n",
       "aux_training = aux_training.drop('orig_destination_distance', axis=1)"
      ]
     },
     {
      "cell_type": "code",
      "execution_count": null,
      "id": "71b1e3ce",
      "metadata": {},
      "outputs": [],
      "source": [
       "pip install lightgbm"
      ]
     },
     {
      "cell_type": "code",
      "execution_count": 1,
      "id": "5d283767-307a-481b-8d32-d195faf1b2bd",
      "metadata": {},
      "outputs": [],
      "source": [
       "import lightgbm as lgb\n",
       "import pandas as pd\n",
       "import numpy as np\n",
       "import seaborn as sns\n",
       "import matplotlib.pyplot as plt\n",
       "import copy\n",
       "from tabulate import tabulate\n",
       "from pathlib import Path\n",
       "from cProfile import label\n",
       "from jinja2 import Undefined\n",
       "from sklearn.preprocessing import StandardScaler,OneHotEncoder,LabelEncoder\n",
       "from sklearn.impute import SimpleImputer\n",
       "from sklearn.model_selection import train_test_split\n",
       "from sklearn import metrics,tree\n",
       "from sklearn.ensemble import RandomForestClassifier\n",
       "from sklearn.naive_bayes import GaussianNB\n",
       "from sklearn.neighbors import KNeighborsClassifier\n",
       "from datamining_machine import DataMiningMachine\n",
       "from sklearn.model_selection import train_test_split"
      ]
     },
     {
      "cell_type": "code",
      "execution_count": 2,
      "id": "cbde3ac9",
      "metadata": {},
      "outputs": [],
      "source": [
       "test_data  = pd.read_csv(\"test_set_VU_DM.csv\")"
      ]
     },
     {
      "cell_type": "code",
      "execution_count": 3,
      "id": "16c20c27-8aac-40ee-ab2f-82410aef9ea9",
      "metadata": {},
      "outputs": [],
      "source": [
       "training_data  = pd.read_csv(\"training_set_VU_DM.csv\")"
      ]
     },
     {
      "cell_type": "code",
      "execution_count": null,
      "id": "2bc41f47",
      "metadata": {},
      "outputs": [],
      "source": [
       "training_data.head()"
      ]
     },
     {
      "cell_type": "code",
      "execution_count": 4,
      "id": "e4d743ed",
      "metadata": {},
      "outputs": [],
      "source": [
       "#create new column for NDCG evaluation\n",
       "training_data['target_col'] = training_data.apply(\n",
       "    lambda row: (5 if row.booking_bool == 1 else (1 if row.click_bool == 1 else 0)), axis=1)"
      ]
     },
     {
      "cell_type": "code",
      "execution_count": 5,
      "id": "765eef33",
      "metadata": {},
      "outputs": [],
      "source": [
       "aux_training = copy.deepcopy(training_data)"
      ]
     },
     {
      "cell_type": "code",
      "execution_count": null,
      "id": "68d66384",
      "metadata": {},
      "outputs": [],
      "source": [
       "aux_training.head()"
      ]
     },
     {
      "cell_type": "code",
      "execution_count": null,
      "id": "84e7fe9a",
      "metadata": {
       "scrolled": true
      },
      "outputs": [],
      "source": [
       "print(\"len target 0: \",len(aux_training.loc[aux_training[\"target_col\"] == 0]))\n",
       "print(\"len target 1: \",len(aux_training.loc[aux_training[\"target_col\"] == 1]))\n",
       "print(\"len target 5: \",len(aux_training.loc[aux_training[\"target_col\"] == 5]))\n"
      ]
     },
     {
      "cell_type": "code",
      "execution_count": null,
      "id": "a41024c4",
      "metadata": {
       "scrolled": true
      },
      "outputs": [],
      "source": [
       "## get set balanced for target column\n",
       "#np.random.seed(0)\n",
       "#balanced = aux_training.groupby('target_col')\n",
       "#balanced = balanced.apply(lambda x: x.sample(balanced.size().min()))\n",
       "\n",
       "print(\"len target 0: \",len(balanced.loc[balanced[\"target_col\"] == 0]))\n",
       "print(\"len target 1: \",len(balanced.loc[balanced[\"target_col\"] == 1]))\n",
       "print(\"len target 5: \",len(balanced.loc[balanced[\"target_col\"] == 5]))"
      ]
     },
     {
      "cell_type": "code",
      "execution_count": null,
      "id": "29e73032",
      "metadata": {},
      "outputs": [],
      "source": [
       "#np.random.seed(0)\n",
       "#rand_sample2 = training_data.groupby('booking_bool').sample(frac=.5) #random\n",
       "#rand_sample2.head(50)"
      ]
     },
     {
      "cell_type": "code",
      "execution_count": null,
      "id": "c2372249",
      "metadata": {},
      "outputs": [],
      "source": [
       "# np.random.seed(0)\n",
       "#rand_sample = training_data.groupby('srch_id').sample(n=5) #random sample keeping 5 rows for any srch_id\n",
       "\n",
       "## SAMPLE KEEPING SRCH_IDs OR BOOKING BOOL?"
      ]
     },
     {
      "cell_type": "code",
      "execution_count": 6,
      "id": "b20b4981",
      "metadata": {},
      "outputs": [
       {
        "name": "stdout",
        "output_type": "stream",
        "text": [
         "len target 0:  2368330\n",
         "len target 1:  41474\n",
         "len target 5:  69370\n"
        ]
       }
      ],
      "source": [
       "aux_training = aux_training.sample(frac=.5) #random sample\n",
       "\n",
       "print(\"len target 0: \",len(aux_training.loc[aux_training[\"target_col\"] == 0]))\n",
       "print(\"len target 1: \",len(aux_training.loc[aux_training[\"target_col\"] == 1]))\n",
       "print(\"len target 5: \",len(aux_training.loc[aux_training[\"target_col\"] == 5]))"
      ]
     },
     {
      "cell_type": "code",
      "execution_count": 7,
      "id": "71400635",
      "metadata": {},
      "outputs": [],
      "source": [
       "aux_training = aux_training.drop('date_time', axis=1) # cause me dont datee"
      ]
     },
     {
      "cell_type": "code",
      "execution_count": 8,
      "id": "7f2362b1",
      "metadata": {},
      "outputs": [],
      "source": [
       "##  drop columns that are not in test set (??? ) \n",
       "aux_training = aux_training.drop('click_bool', axis=1)   #replaced by target_col and not in test set \n",
       "aux_training = aux_training.drop('booking_bool', axis=1) #replaced by target_col and not in test set \n"
      ]
     },
     {
      "cell_type": "code",
      "execution_count": null,
      "id": "68ca51a7",
      "metadata": {},
      "outputs": [],
      "source": [
       "# CAN WE DROP THIS AFTER TRAINING?\n",
       "#aux_training = aux_training.drop('position', axis=1)          # (not in test set)not sure about drop this one. Maybe some transformation ??\n",
       "#aux_training = aux_training.drop('gross_booking_usd', axis=1) # (not in test set)not sure about drop this one. Maybe some transformation ??"
      ]
     },
     {
      "cell_type": "code",
      "execution_count": null,
      "id": "5cd48a9c",
      "metadata": {
       "scrolled": true
      },
      "outputs": [],
      "source": [
       "print(\"Empty values per column: \\n\",aux_training.isnull().sum())"
      ]
     },
     {
      "cell_type": "code",
      "execution_count": null,
      "id": "9d99e96d",
      "metadata": {},
      "outputs": [],
      "source": [
       "aux_training.head()"
      ]
     },
     {
      "cell_type": "code",
      "execution_count": 9,
      "id": "f3cf94c4",
      "metadata": {},
      "outputs": [],
      "source": [
       "feature = aux_training.drop('target_col', axis=1)\n",
       "target  =  aux_training['target_col']"
      ]
     },
     {
      "cell_type": "code",
      "execution_count": null,
      "id": "8e2cb523",
      "metadata": {},
      "outputs": [],
      "source": [
       "feature.head()"
      ]
     },
     {
      "cell_type": "code",
      "execution_count": 10,
      "id": "9f40f1e0",
      "metadata": {
       "scrolled": true
      },
      "outputs": [
       {
        "name": "stdout",
        "output_type": "stream",
        "text": [
         "X_train.shape =  (1983339, 51)\n",
         "X_val.shape =  (495835, 51)\n",
         "\n",
         "y_train.shape =  (1983339,)\n",
         "y_val.shape =  (495835,)\n"
        ]
       }
      ],
      "source": [
       "X_train, X_val, y_train, y_val = train_test_split(feature, target, test_size=0.2, random_state=0)\n",
       "\n",
       "print(\"X_train.shape = \",X_train.shape)\n",
       "print(\"X_val.shape = \",X_val.shape)\n",
       "print(\"\\ny_train.shape = \",y_train.shape)\n",
       "print(\"y_val.shape = \",y_val.shape)\n",
       "\n",
       "    "
      ]
     },
     {
      "cell_type": "code",
      "execution_count": null,
      "id": "dd99a414",
      "metadata": {},
      "outputs": [],
      "source": [
       "X_train.head()"
      ]
     },
     {
      "cell_type": "code",
      "execution_count": 11,
      "id": "2e08f9a0",
      "metadata": {
       "scrolled": true
      },
      "outputs": [],
      "source": [
       "X_train = X_train.sort_index()\n",
       "y_train = y_train.sort_index()\n",
       "\n",
       "X_val = X_val.sort_index()\n",
       "y_val = y_val.sort_index()"
      ]
     },
     {
      "cell_type": "code",
      "execution_count": 12,
      "id": "6fe019ab",
      "metadata": {},
      "outputs": [],
      "source": [
       "qids_train = X_train.groupby(\"srch_id\")[\"srch_id\"].count().to_numpy()\n",
       "qids_val   = X_val.groupby(\"srch_id\")[\"srch_id\"].count().to_numpy()\n"
      ]
     },
     {
      "cell_type": "code",
      "execution_count": null,
      "id": "3f9bbc8d",
      "metadata": {
       "scrolled": true
      },
      "outputs": [],
      "source": [
       "qids_train"
      ]
     },
     {
      "cell_type": "code",
      "execution_count": null,
      "id": "92ea11ae",
      "metadata": {
       "scrolled": true
      },
      "outputs": [],
      "source": [
       "print(\"query train ids mean: \",qids_train.mean()) # should we ensure there are enough rows from same srch_id ??? ANS: apparently not\n",
       "print(\"query val   ids mean: \",qids_val.mean()) "
      ]
     },
     {
      "cell_type": "code",
      "execution_count": null,
      "id": "9f903eff",
      "metadata": {},
      "outputs": [],
      "source": [
       "#X_train = X_train.drop('srch_id', axis=1) #do we need to drop search id?\n",
       "#X_val   = X_val.drop('srch_id', axis=1)   #do we need to drop search id?"
      ]
     },
     {
      "cell_type": "code",
      "execution_count": 13,
      "id": "920cbca3",
      "metadata": {
       "scrolled": true
      },
      "outputs": [],
      "source": [
       "FIXED_PARAMS={\n",
       "              'objective'             : 'lambdarank',\n",
       "              #'objective'               : 'rank_xendcg',\n",
       "              'metric'                : 'ndcg',\n",
       "              'boosting_type'         : 'gbdt',\n",
       "              'is_unbalance'          : True,\n",
       "#               'is_unbalance'          : False,\n",
       "              'num_iterations'        : 300,\n",
       "              'early_stopping_rounds' : 30}\n",
       "\n",
       "SEARCH_PARAMS = {'learning_rate': 0.3,\n",
       "                 'max_depth': 15,\n",
       "                 'num_leaves': 20,\n",
       "                 'feature_fraction': 0.8,\n",
       "                 'subsample': 0.2}\n",
       "\n",
       "gbm = lgb.LGBMRanker( \n",
       "        objective               = FIXED_PARAMS[\"objective\"],\n",
       "        metric                  = FIXED_PARAMS[\"metric\"],\n",
       "        boosting_type           = FIXED_PARAMS[\"boosting_type\"],\n",
       "        is_unbalance            = FIXED_PARAMS[\"is_unbalance\"],\n",
       "        num_iterations          = FIXED_PARAMS[\"num_iterations\"],\n",
       "        early_stopping_rounds   = FIXED_PARAMS[\"early_stopping_rounds\"],\n",
       "        learning_rate           = SEARCH_PARAMS[\"learning_rate\"],\n",
       "        max_depth               = SEARCH_PARAMS[\"max_depth\"],\n",
       "        num_leaves              = SEARCH_PARAMS[\"num_leaves\"],\n",
       "        feature_fraction        = SEARCH_PARAMS[\"feature_fraction\"],\n",
       "        subsample               = SEARCH_PARAMS[\"subsample\"],\n",
       ")\n",
       "\n",
       "# gbm = lgb.LGBMRanker( params )\n",
       "\n",
       "\n"
      ]
     },
     {
      "cell_type": "code",
      "execution_count": 14,
      "id": "46ebc2e7",
      "metadata": {},
      "outputs": [
       {
        "name": "stderr",
        "output_type": "stream",
        "text": [
         "C:\\Users\\Martin\\anaconda3\\lib\\site-packages\\lightgbm\\engine.py:177: UserWarning: Found `num_iterations` in params. Will use it instead of argument\n",
         "  _log_warning(f\"Found `{alias}` in params. Will use it instead of argument\")\n"
        ]
       },
       {
        "name": "stdout",
        "output_type": "stream",
        "text": [
         "[LightGBM] [Warning] feature_fraction is set=0.8, colsample_bytree=1.0 will be ignored. Current value: feature_fraction=0.8\n",
         "[LightGBM] [Warning] early_stopping_round is set=30, early_stopping_rounds=30 will be ignored. Current value: early_stopping_round=30\n",
         "[1]\tvalid_0's ndcg@5: 0.9903\n",
         "[2]\tvalid_0's ndcg@5: 0.990935\n",
         "[3]\tvalid_0's ndcg@5: 0.99115\n",
         "[4]\tvalid_0's ndcg@5: 0.991289\n",
         "[5]\tvalid_0's ndcg@5: 0.991359\n",
         "[6]\tvalid_0's ndcg@5: 0.991461\n",
         "[7]\tvalid_0's ndcg@5: 0.99155\n",
         "[8]\tvalid_0's ndcg@5: 0.991636\n",
         "[9]\tvalid_0's ndcg@5: 0.99166\n",
         "[10]\tvalid_0's ndcg@5: 0.99172\n",
         "[11]\tvalid_0's ndcg@5: 0.991763\n",
         "[12]\tvalid_0's ndcg@5: 0.991744\n",
         "[13]\tvalid_0's ndcg@5: 0.991737\n",
         "[14]\tvalid_0's ndcg@5: 0.991764\n",
         "[15]\tvalid_0's ndcg@5: 0.991723\n",
         "[16]\tvalid_0's ndcg@5: 0.991752\n",
         "[17]\tvalid_0's ndcg@5: 0.991783\n",
         "[18]\tvalid_0's ndcg@5: 0.991815\n",
         "[19]\tvalid_0's ndcg@5: 0.991794\n",
         "[20]\tvalid_0's ndcg@5: 0.991769\n",
         "[21]\tvalid_0's ndcg@5: 0.991794\n",
         "[22]\tvalid_0's ndcg@5: 0.991808\n",
         "[23]\tvalid_0's ndcg@5: 0.991834\n",
         "[24]\tvalid_0's ndcg@5: 0.991812\n",
         "[25]\tvalid_0's ndcg@5: 0.991832\n",
         "[26]\tvalid_0's ndcg@5: 0.99182\n",
         "[27]\tvalid_0's ndcg@5: 0.991841\n",
         "[28]\tvalid_0's ndcg@5: 0.991824\n",
         "[29]\tvalid_0's ndcg@5: 0.991824\n",
         "[30]\tvalid_0's ndcg@5: 0.991819\n",
         "[31]\tvalid_0's ndcg@5: 0.991814\n",
         "[32]\tvalid_0's ndcg@5: 0.991807\n",
         "[33]\tvalid_0's ndcg@5: 0.991831\n",
         "[34]\tvalid_0's ndcg@5: 0.991844\n",
         "[35]\tvalid_0's ndcg@5: 0.991843\n",
         "[36]\tvalid_0's ndcg@5: 0.991844\n",
         "[37]\tvalid_0's ndcg@5: 0.991827\n",
         "[38]\tvalid_0's ndcg@5: 0.991823\n",
         "[39]\tvalid_0's ndcg@5: 0.991812\n",
         "[40]\tvalid_0's ndcg@5: 0.991824\n",
         "[41]\tvalid_0's ndcg@5: 0.991852\n",
         "[42]\tvalid_0's ndcg@5: 0.991857\n",
         "[43]\tvalid_0's ndcg@5: 0.99185\n",
         "[44]\tvalid_0's ndcg@5: 0.991851\n",
         "[45]\tvalid_0's ndcg@5: 0.991882\n",
         "[46]\tvalid_0's ndcg@5: 0.991875\n",
         "[47]\tvalid_0's ndcg@5: 0.991871\n",
         "[48]\tvalid_0's ndcg@5: 0.991865\n",
         "[49]\tvalid_0's ndcg@5: 0.991869\n",
         "[50]\tvalid_0's ndcg@5: 0.991847\n",
         "[51]\tvalid_0's ndcg@5: 0.991848\n",
         "[52]\tvalid_0's ndcg@5: 0.991852\n",
         "[53]\tvalid_0's ndcg@5: 0.991842\n",
         "[54]\tvalid_0's ndcg@5: 0.991854\n",
         "[55]\tvalid_0's ndcg@5: 0.99185\n",
         "[56]\tvalid_0's ndcg@5: 0.991868\n",
         "[57]\tvalid_0's ndcg@5: 0.991845\n",
         "[58]\tvalid_0's ndcg@5: 0.991832\n",
         "[59]\tvalid_0's ndcg@5: 0.991828\n",
         "[60]\tvalid_0's ndcg@5: 0.991819\n",
         "[61]\tvalid_0's ndcg@5: 0.991822\n",
         "[62]\tvalid_0's ndcg@5: 0.991824\n",
         "[63]\tvalid_0's ndcg@5: 0.991811\n",
         "[64]\tvalid_0's ndcg@5: 0.991808\n",
         "[65]\tvalid_0's ndcg@5: 0.99183\n",
         "[66]\tvalid_0's ndcg@5: 0.991809\n",
         "[67]\tvalid_0's ndcg@5: 0.99181\n",
         "[68]\tvalid_0's ndcg@5: 0.991813\n",
         "[69]\tvalid_0's ndcg@5: 0.991825\n",
         "[70]\tvalid_0's ndcg@5: 0.991818\n",
         "[71]\tvalid_0's ndcg@5: 0.991814\n",
         "[72]\tvalid_0's ndcg@5: 0.991791\n",
         "[73]\tvalid_0's ndcg@5: 0.991793\n",
         "[74]\tvalid_0's ndcg@5: 0.991791\n",
         "[75]\tvalid_0's ndcg@5: 0.991801\n"
        ]
       },
       {
        "data": {
         "text/plain": [
          "LGBMRanker(early_stopping_rounds=30, feature_fraction=0.8, is_unbalance=True,\n",
          "           learning_rate=0.3, max_depth=15, metric='ndcg', num_iterations=300,\n",
          "           num_leaves=20, objective='lambdarank', subsample=0.2)"
         ]
        },
        "execution_count": 14,
        "metadata": {},
        "output_type": "execute_result"
       }
      ],
      "source": [
       "gbm.fit(X_train, \n",
       "        y_train, \n",
       "        group=qids_train,\n",
       "        eval_set=[(X_val, y_val)], \n",
       "        eval_group=[qids_val],\n",
       "        eval_at=[5]\n",
       ")"
      ]
     },
     {
      "cell_type": "code",
      "execution_count": null,
      "id": "eb9648ea",
      "metadata": {},
      "outputs": [],
      "source": [
       "#test_pred = gbm.predict(X_test)\n",
       "\n",
       "#print(test_pred)"
      ]
     },
     {
      "cell_type": "code",
      "execution_count": null,
      "id": "5e711234",
      "metadata": {},
      "outputs": [],
      "source": [
       "X_train.columns"
      ]
     },
     {
      "cell_type": "code",
      "execution_count": null,
      "id": "459e9cd0",
      "metadata": {},
      "outputs": [],
      "source": [
       "aux_test = test_data"
      ]
     },
     {
      "cell_type": "code",
      "execution_count": null,
      "id": "d9a690c9",
      "metadata": {},
      "outputs": [],
      "source": [
       "#drop columns i dont care or have too many empty values:\n",
       "\n",
       "\n",
       "aux_test = aux_test.drop('date_time', axis=1)\n",
       "\n",
       "aux_test = aux_test.drop('comp1_rate', axis=1)\n",
       "aux_test = aux_test.drop('comp1_inv', axis=1)\n",
       "aux_test = aux_test.drop('comp1_rate_percent_diff', axis=1)\n",
       "\n",
       "aux_test = aux_test.drop('comp2_rate', axis=1)\n",
       "aux_test = aux_test.drop('comp2_inv', axis=1)\n",
       "aux_test = aux_test.drop('comp2_rate_percent_diff', axis=1)\n",
       "\n",
       "aux_test = aux_test.drop('comp3_rate', axis=1)\n",
       "aux_test = aux_test.drop('comp3_inv', axis=1)\n",
       "aux_test = aux_test.drop('comp3_rate_percent_diff', axis=1)\n",
       "\n",
       "aux_test = aux_test.drop('comp4_rate', axis=1)\n",
       "aux_test = aux_test.drop('comp4_inv', axis=1)\n",
       "aux_test = aux_test.drop('comp4_rate_percent_diff', axis=1)\n",
       "\n",
       "aux_test = aux_test.drop('comp5_rate', axis=1)\n",
       "aux_test = aux_test.drop('comp5_inv', axis=1)\n",
       "aux_test = aux_test.drop('comp5_rate_percent_diff', axis=1)\n",
       "\n",
       "aux_test = aux_test.drop('comp6_rate', axis=1)\n",
       "aux_test = aux_test.drop('comp6_inv', axis=1)\n",
       "aux_test = aux_test.drop('comp6_rate_percent_diff', axis=1)\n",
       "\n",
       "aux_test = aux_test.drop('comp7_rate', axis=1)\n",
       "aux_test = aux_test.drop('comp7_inv', axis=1)\n",
       "aux_test = aux_test.drop('comp7_rate_percent_diff', axis=1)\n",
       "\n",
       "aux_test = aux_test.drop('comp8_rate', axis=1)\n",
       "aux_test = aux_test.drop('comp8_inv', axis=1)\n",
       "aux_test = aux_test.drop('comp8_rate_percent_diff', axis=1)\n",
       "\n",
       "aux_test = aux_test.drop('visitor_hist_starrating', axis=1)\n",
       "aux_test = aux_test.drop('visitor_hist_adr_usd', axis=1)\n",
       "\n",
       "aux_test = aux_test.drop('srch_query_affinity_score', axis=1)\n",
       "\n",
       "#aux_test = aux_test.drop('gross_bookings_usd', axis=1)\n",
       "\n",
       "aux_test = aux_test.drop('prop_review_score', axis=1)\n",
       "aux_test = aux_test.drop('prop_location_score2', axis=1)\n",
       "aux_test = aux_test.drop('orig_destination_distance', axis=1)"
      ]
     },
     {
      "cell_type": "code",
      "execution_count": null,
      "id": "ac9dd4fd",
      "metadata": {},
      "outputs": [],
      "source": [
       "aux_test = aux_test.drop('date_time', axis=1)"
      ]
     },
     {
      "cell_type": "code",
      "execution_count": null,
      "id": "a2d05229",
      "metadata": {},
      "outputs": [],
      "source": [
       "X_train.columns"
      ]
     },
     {
      "cell_type": "code",
      "execution_count": null,
      "id": "0ff092a7",
      "metadata": {},
      "outputs": [],
      "source": [
       "    \n",
       "aux_test.columns"
      ]
     },
     {
      "cell_type": "code",
      "execution_count": null,
      "id": "a3def028",
      "metadata": {},
      "outputs": [],
      "source": []
     },
     {
      "cell_type": "code",
      "execution_count": null,
      "id": "e9d11ccf",
      "metadata": {},
      "outputs": [],
      "source": [
       "test_pred = gbm.predict(aux_test)\n",
       "\n",
       "print(test_pred)"
      ]
     },
     {
      "cell_type": "code",
      "execution_count": null,
      "id": "dc77bf71",
      "metadata": {},
      "outputs": [],
      "source": [
       "aux_test[\"predicted_ranking\"] = test_pred\n"
      ]
     },
     {
      "cell_type": "code",
      "execution_count": null,
      "id": "26fde61f",
      "metadata": {
       "scrolled": true
      },
      "outputs": [],
      "source": [
       "aux_test.sort_values([\"srch_id\",\"predicted_ranking\"], ascending=[True,False])"
      ]
     },
     {
      "cell_type": "code",
      "execution_count": null,
      "id": "7d2a645b",
      "metadata": {},
      "outputs": [],
      "source": [
       "aux_test2 = aux_test\n",
       "aux_test2\n"
      ]
     },
     {
      "cell_type": "code",
      "execution_count": null,
      "id": "e62ac62c",
      "metadata": {},
      "outputs": [],
      "source": [
       "aux_test2.drop(aux_test2.columns.difference(['srch_id','prop_id']), 1, inplace=True)"
      ]
     },
     {
      "cell_type": "code",
      "execution_count": null,
      "id": "71b9b4be",
      "metadata": {
       "scrolled": true
      },
      "outputs": [],
      "source": [
       "aux_test2.head(50)"
      ]
     },
     {
      "cell_type": "code",
      "execution_count": null,
      "id": "3cc8a359",
      "metadata": {},
      "outputs": [],
      "source": [
       "aux_test2.to_csv(\"out.csv\", index=False)    "
      ]
     },
     {
      "cell_type": "markdown",
      "id": "5b43821d",
      "metadata": {},
      "source": [
       "# -------------------------------------------------------------------------------------------------------------"
      ]
     }
    ],
    "metadata": {
     "kernelspec": {
      "display_name": "Python 3",
      "language": "python",
      "name": "python3"
     },
     "language_info": {
      "codemirror_mode": {
       "name": "ipython",
       "version": 3
      },
      "file_extension": ".py",
      "mimetype": "text/x-python",
      "name": "python",
      "nbconvert_exporter": "python",
      "pygments_lexer": "ipython3",
      "version": "3.8.8"
     }
    },
    "nbformat": 4,
    "nbformat_minor": 5
   }
   